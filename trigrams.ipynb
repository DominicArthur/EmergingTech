{
 "cells": [
  {
   "cell_type": "code",
   "execution_count": 23,
   "metadata": {},
   "outputs": [
    {
     "name": "stdout",
     "output_type": "stream",
     "text": [
      "Original Text:\n",
      "Hello, world! Im sleepy. 1234 #&%^()*\n",
      "\n",
      "Cleaned Text:\n",
      "HELLO WORLD IM SLEEPY.  \n"
     ]
    }
   ],
   "source": [
    "# Step 1; Clean the text\n",
    "import re\n",
    "from collections import defaultdict\n",
    "\n",
    "def clean_text(text):\n",
    "    # Remove all characters except letters (A-Z, a-z), spaces, and full stops\n",
    "    cleaned_text = re.sub(r'[^A-Za-z. ]+', '', text)\n",
    "    # Convert all letters to uppercase\n",
    "    cleaned_text = cleaned_text.upper()\n",
    "    return cleaned_text\n",
    "\n",
    "# Test code and function to clean the test of numbers and symbols \n",
    "sample_text = \"Hello, world! Im sleepy. 1234 #&%^()*\"\n",
    "# Print Results\n",
    "cleaned_output = clean_text(sample_text)\n",
    "print(\"Original Text:\")\n",
    "print(sample_text)\n",
    "print(\"\\nCleaned Text:\")\n",
    "print(cleaned_output)\n",
    "    "
   ]
  },
  {
   "cell_type": "code",
   "execution_count": 24,
   "metadata": {},
   "outputs": [],
   "source": [
    "# Function to create the trigram model\n",
    "def create_trigram(cleaned_text):\n",
    "    \"\"\"Generate a trigram model from the cleaned text.\"\"\"\n",
    "    trigram_counts = defaultdict(int)  # Initialize a dictionary to store trigram counts\n",
    "    for i in range(len(cleaned_text) - 2):  # Loop to extract trigrams\n",
    "        trigram = cleaned_text[i:i+3]  \n",
    "        trigram_counts[trigram] += 1  # Count the trigram\n",
    "    return dict(trigram_counts)  "
   ]
  },
  {
   "cell_type": "code",
   "execution_count": 26,
   "metadata": {},
   "outputs": [
    {
     "name": "stdout",
     "output_type": "stream",
     "text": [
      "Trigrams:\n",
      "HEL: 1\n",
      "ELL: 1\n",
      "LLO: 1\n",
      "LO : 1\n",
      "O W: 1\n",
      " WO: 1\n",
      "WOR: 1\n",
      "ORL: 1\n",
      "RLD: 1\n",
      "LD : 1\n"
     ]
    }
   ],
   "source": [
    "# Testing Trigram Model\n",
    "trigram_model = create_trigram(cleaned_output)\n",
    "\n",
    "print(\"Trigrams:\")\n",
    "sorted_trigrams = sorted(trigram_model.items(), key=lambda x: x[1], reverse=True)\n",
    "for trigram, count in list(trigram_model.items())[:10]: # Show the first 10 trigrams \n",
    "    print(f\"{trigram}: {count}\")"
   ]
  },
  {
   "cell_type": "code",
   "execution_count": null,
   "metadata": {},
   "outputs": [],
   "source": []
  }
 ],
 "metadata": {
  "kernelspec": {
   "display_name": "Python 3 (ipykernel)",
   "language": "python",
   "name": "python3"
  },
  "language_info": {
   "codemirror_mode": {
    "name": "ipython",
    "version": 3
   },
   "file_extension": ".py",
   "mimetype": "text/x-python",
   "name": "python",
   "nbconvert_exporter": "python",
   "pygments_lexer": "ipython3",
   "version": "3.12.2"
  }
 },
 "nbformat": 4,
 "nbformat_minor": 4
}
