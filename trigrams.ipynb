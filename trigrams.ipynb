{
 "cells": [
  {
   "cell_type": "code",
   "execution_count": 4,
   "metadata": {},
   "outputs": [],
   "source": [
    "# Step 1; Clean the text\n",
    "import re\n",
    "import json\n",
    "from collections import defaultdict\n",
    "\n",
    "def clean_text(text):\n",
    "    # Remove all characters except letters (A-Z, a-z), spaces, and full stops\n",
    "    cleaned_text = re.sub(r'[^A-Za-z. ]+', '', text)\n",
    "    # Convert all letters to uppercase\n",
    "    cleaned_text = cleaned_text.upper()\n",
    "    return cleaned_text\n",
    "\n",
    "# Read and clean the books\n",
    "def read_and_clean_books(file_paths):\n",
    "    all_text = \"\"\n",
    "    for file_path in file_paths:\n",
    "        with open(file_path, 'r', encoding='utf-8') as f:\n",
    "            text = f.read()\n",
    "            # Clean and concatenate the text\n",
    "            all_text += clean_text(text)\n",
    "    return all_text\n",
    "\n",
    "# The paths to your five books\n",
    "file_paths = [\n",
    "    \"Books/Cthulhu.txt\",\n",
    "    \"Books/Dracula.txt\",\n",
    "    \"Books/Frankenstein.txt\",\n",
    "    \"Books/Mobydick.txt\",\n",
    "    \"Books/Sherlock.txt\"\n",
    "]\n",
    "\n",
    "# Clean all books and prepare the entire dataset\n",
    "cleaned_text = read_and_clean_books(file_paths)"
   ]
  },
  {
   "cell_type": "code",
   "execution_count": 5,
   "metadata": {},
   "outputs": [],
   "source": [
    "# Function to create the trigram model\n",
    "def create_trigram(cleaned_text):\n",
    "    \"\"\"Generate a trigram model from the cleaned text.\"\"\"\n",
    "    trigram_counts = defaultdict(int)  # Initialize a dictionary to store trigram counts\n",
    "    for i in range(len(cleaned_text) - 2):  # Loop to extract trigrams\n",
    "        trigram = cleaned_text[i:i+3]  \n",
    "        trigram_counts[trigram] += 1  # Count the trigram\n",
    "    return dict(trigram_counts)  "
   ]
  },
  {
   "cell_type": "code",
   "execution_count": 6,
   "metadata": {},
   "outputs": [
    {
     "name": "stdout",
     "output_type": "stream",
     "text": [
      "Trigrams:\n",
      "THE: 46017\n",
      "HE : 37446\n",
      "E C: 4945\n",
      " CA: 4769\n",
      "CAL: 1203\n",
      "ALL: 6929\n",
      "LL : 8385\n",
      "L O: 947\n",
      " OF: 16116\n",
      "OF : 14886\n",
      "\n",
      "Trigram model saved to 'trigram_model.json'\n"
     ]
    }
   ],
   "source": [
    "# Testing Trigram Model\n",
    "trigram_model = create_trigram(cleaned_text)\n",
    "\n",
    "print(\"Trigrams:\")\n",
    "sorted_trigrams = sorted(trigram_model.items(), key=lambda x: x[1], reverse=True)\n",
    "for trigram, count in list(trigram_model.items())[:10]: # Show the first 10 trigrams \n",
    "    print(f\"{trigram}: {count}\")\n",
    "\n",
    "# Save the trigram model to a JSON file for use in Task 2\n",
    "with open(\"trigram_model.json\", \"w\") as f:\n",
    "    json.dump(trigram_model, f)\n",
    "print(\"\\nTrigram model saved to 'trigram_model.json'\")"
   ]
  },
  {
   "cell_type": "code",
   "execution_count": 7,
   "metadata": {},
   "outputs": [
    {
     "name": "stdout",
     "output_type": "stream",
     "text": [
      "Trigram model saved to trigram_model.json\n"
     ]
    }
   ],
   "source": [
    "# Save the trigram model to a JSON file\n",
    "with open(\"trigram_model.json\", \"w\") as f:\n",
    "    json.dump(trigram_model, f)\n",
    "\n",
    "print(\"Trigram model saved to trigram_model.json\")"
   ]
  },
  {
   "cell_type": "code",
   "execution_count": null,
   "metadata": {},
   "outputs": [],
   "source": []
  },
  {
   "cell_type": "code",
   "execution_count": null,
   "metadata": {},
   "outputs": [],
   "source": []
  }
 ],
 "metadata": {
  "kernelspec": {
   "display_name": "Python 3 (ipykernel)",
   "language": "python",
   "name": "python3"
  },
  "language_info": {
   "codemirror_mode": {
    "name": "ipython",
    "version": 3
   },
   "file_extension": ".py",
   "mimetype": "text/x-python",
   "name": "python",
   "nbconvert_exporter": "python",
   "pygments_lexer": "ipython3",
   "version": "3.12.2"
  }
 },
 "nbformat": 4,
 "nbformat_minor": 4
}
