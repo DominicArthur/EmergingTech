{
 "cells": [
  {
   "cell_type": "code",
   "execution_count": 4,
   "metadata": {},
   "outputs": [
    {
     "name": "stdout",
     "output_type": "stream",
     "text": [
      "Original Text:\n",
      "Hello, world! I'm coding: it's fun. 1234 #$%^&*()\n",
      "\n",
      "Cleaned Text:\n",
      "HELLO WORLD IM CODING ITS FUN.  \n"
     ]
    }
   ],
   "source": [
    "# Step 1; Clean the text\n",
    "import re\n",
    "\n",
    "def clean_text(text):\n",
    "    # Remove all characters except letters (A-Z, a-z), spaces, and full stops\n",
    "    cleaned_text = re.sub(r'[^A-Za-z. ]+', '', text)\n",
    "    # Convert all letters to uppercase\n",
    "    cleaned_text = cleaned_text.upper()\n",
    "    return cleaned_text\n",
    "\n",
    "# Test code\n",
    "sample_text = \"Hello, world! Im sleepy. 1234 #&%^()*\"\n",
    "# Print Results\n",
    "clear_output = clean_text(sample_text)\n",
    "print(\"Original Text:\")\n",
    "print(sample_text)\n",
    "print(\"\\nCleaned Text:\")\n",
    "print(cleaned_output)\n",
    "    "
   ]
  },
  {
   "cell_type": "code",
   "execution_count": null,
   "metadata": {},
   "outputs": [],
   "source": [
    "def create_trigram(clean_text):\n",
    "    trigram_counts = defaultdict(int)\n",
    "    text_length = len(cleaned_text)\n",
    "\n",
    "    for i in range(text_length - 2):\n",
    "        trigram = cleaned_text[i:i+3]\n",
    "        trigram_counts[trigram] += 1\n",
    "\n",
    "        return trigram_counts"
   ]
  }
 ],
 "metadata": {
  "kernelspec": {
   "display_name": "Python 3",
   "language": "python",
   "name": "python3"
  },
  "language_info": {
   "codemirror_mode": {
    "name": "ipython",
    "version": 3
   },
   "file_extension": ".py",
   "mimetype": "text/x-python",
   "name": "python",
   "nbconvert_exporter": "python",
   "pygments_lexer": "ipython3",
   "version": "3.10.4"
  },
  "orig_nbformat": 4
 },
 "nbformat": 4,
 "nbformat_minor": 2
}
