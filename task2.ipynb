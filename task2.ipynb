{
 "cells": [
  {
   "cell_type": "code",
   "execution_count": 6,
   "id": "edb86150-9b69-4629-8e58-3dd10982989b",
   "metadata": {},
   "outputs": [
    {
     "name": "stdout",
     "output_type": "stream",
     "text": [
      "Trigram model loaded successfully\n"
     ]
    }
   ],
   "source": [
    "import json\n",
    "import random \n",
    "\n",
    "# Load the trigram model from the JSON file\n",
    "with open(\"trigram_model.json\", \"r\") as f:\n",
    "    trigram_model = json.load(f)\n",
    "\n",
    "print(\"Trigram model loaded successfully\")\n"
   ]
  },
  {
   "cell_type": "code",
   "execution_count": 7,
   "id": "14cf3d1e-7cc9-46d8-a9d6-b3e44f012762",
   "metadata": {},
   "outputs": [],
   "source": [
    "def generate_text(trigram_model, start, length):\n",
    "    # Generate text using a trigram model.\n",
    "    generated_text = start \n",
    "\n",
    "    # Generates text until the length needed is reached.\n",
    "    while len(generated_text) < length:\n",
    "        last_two = generated_text[-2:] # Gets the last two characters\n",
    "\n",
    "        # Find all the trigrams that start with the last two charecters \n",
    "        candidates = {trigram: count for trigram, count in trigram_model.items() if trigram.startswith(last_two)}\n",
    "\n",
    "        if not candidates:\n",
    "            break # If not candidates are found stop the program \n",
    "\n",
    "        total_count =sum(candidates.values())\n",
    "        choices = [trigram[2] for trigram in candidates.keys()]  # Get the third character of each trigram\n",
    "        weights = [count / total_count for count in candidates.values()]  # Calculate probabilities \n",
    "\n",
    "        # Randomly choose the next character based on the weights\n",
    "        next_char = random.choices(choices, weights)[0]\n",
    "        generated_text += next_char  # Add the chosen character to the text\n",
    "    \n",
    "    return generated_text # adding to fix commit message"
   ]
  },
  {
   "cell_type": "code",
   "execution_count": null,
   "id": "96ebc73f-89a9-437a-839b-0dc2bf50fa27",
   "metadata": {},
   "outputs": [],
   "source": []
  },
  {
   "cell_type": "code",
   "execution_count": null,
   "id": "cdc22b9c-c33a-4105-8fc3-b5402a590649",
   "metadata": {},
   "outputs": [],
   "source": []
  }
 ],
 "metadata": {
  "kernelspec": {
   "display_name": "Python 3 (ipykernel)",
   "language": "python",
   "name": "python3"
  },
  "language_info": {
   "codemirror_mode": {
    "name": "ipython",
    "version": 3
   },
   "file_extension": ".py",
   "mimetype": "text/x-python",
   "name": "python",
   "nbconvert_exporter": "python",
   "pygments_lexer": "ipython3",
   "version": "3.12.2"
  }
 },
 "nbformat": 4,
 "nbformat_minor": 5
}
